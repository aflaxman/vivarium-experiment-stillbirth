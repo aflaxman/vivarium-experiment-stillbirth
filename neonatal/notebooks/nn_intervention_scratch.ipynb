{
 "cells": [
  {
   "cell_type": "code",
   "execution_count": 4,
   "metadata": {},
   "outputs": [
    {
     "data": {
      "text/html": [
       "<div>\n",
       "<style scoped>\n",
       "    .dataframe tbody tr th:only-of-type {\n",
       "        vertical-align: middle;\n",
       "    }\n",
       "\n",
       "    .dataframe tbody tr th {\n",
       "        vertical-align: top;\n",
       "    }\n",
       "\n",
       "    .dataframe thead th {\n",
       "        text-align: right;\n",
       "    }\n",
       "</style>\n",
       "<table border=\"1\" class=\"dataframe\">\n",
       "  <thead>\n",
       "    <tr style=\"text-align: right;\">\n",
       "      <th></th>\n",
       "      <th></th>\n",
       "      <th>cat</th>\n",
       "    </tr>\n",
       "    <tr>\n",
       "      <th>gestation_time</th>\n",
       "      <th>birth_weight</th>\n",
       "      <th></th>\n",
       "    </tr>\n",
       "  </thead>\n",
       "  <tbody>\n",
       "    <tr>\n",
       "      <th rowspan=\"2\" valign=\"top\">[0, 24)</th>\n",
       "      <th>[0, 500)</th>\n",
       "      <td>cat2</td>\n",
       "    </tr>\n",
       "    <tr>\n",
       "      <th>[500, 1000)</th>\n",
       "      <td>cat8</td>\n",
       "    </tr>\n",
       "    <tr>\n",
       "      <th>[24, 26)</th>\n",
       "      <th>[500, 1000)</th>\n",
       "      <td>cat10</td>\n",
       "    </tr>\n",
       "    <tr>\n",
       "      <th rowspan=\"2\" valign=\"top\">[26, 28)</th>\n",
       "      <th>[500, 1000)</th>\n",
       "      <td>cat11</td>\n",
       "    </tr>\n",
       "    <tr>\n",
       "      <th>[1000, 1500)</th>\n",
       "      <td>cat17</td>\n",
       "    </tr>\n",
       "    <tr>\n",
       "      <th rowspan=\"6\" valign=\"top\">[28, 30)</th>\n",
       "      <th>[500, 1000)</th>\n",
       "      <td>cat15</td>\n",
       "    </tr>\n",
       "    <tr>\n",
       "      <th>[1000, 1500)</th>\n",
       "      <td>cat21</td>\n",
       "    </tr>\n",
       "    <tr>\n",
       "      <th>[1500, 2000)</th>\n",
       "      <td>cat20</td>\n",
       "    </tr>\n",
       "    <tr>\n",
       "      <th>[2000, 2500)</th>\n",
       "      <td>cat80</td>\n",
       "    </tr>\n",
       "    <tr>\n",
       "      <th>[2500, 3000)</th>\n",
       "      <td>cat81</td>\n",
       "    </tr>\n",
       "    <tr>\n",
       "      <th>[3000, 3500)</th>\n",
       "      <td>cat82</td>\n",
       "    </tr>\n",
       "    <tr>\n",
       "      <th rowspan=\"7\" valign=\"top\">[30, 32)</th>\n",
       "      <th>[500, 1000)</th>\n",
       "      <td>cat14</td>\n",
       "    </tr>\n",
       "    <tr>\n",
       "      <th>[1000, 1500)</th>\n",
       "      <td>cat23</td>\n",
       "    </tr>\n",
       "    <tr>\n",
       "      <th>[1500, 2000)</th>\n",
       "      <td>cat27</td>\n",
       "    </tr>\n",
       "    <tr>\n",
       "      <th>[2000, 2500)</th>\n",
       "      <td>cat26</td>\n",
       "    </tr>\n",
       "    <tr>\n",
       "      <th>[2500, 3000)</th>\n",
       "      <td>cat88</td>\n",
       "    </tr>\n",
       "    <tr>\n",
       "      <th>[3000, 3500)</th>\n",
       "      <td>cat89</td>\n",
       "    </tr>\n",
       "    <tr>\n",
       "      <th>[3500, 4000)</th>\n",
       "      <td>cat90</td>\n",
       "    </tr>\n",
       "    <tr>\n",
       "      <th rowspan=\"6\" valign=\"top\">[32, 34)</th>\n",
       "      <th>[1000, 1500)</th>\n",
       "      <td>cat22</td>\n",
       "    </tr>\n",
       "    <tr>\n",
       "      <th>[1500, 2000)</th>\n",
       "      <td>cat29</td>\n",
       "    </tr>\n",
       "    <tr>\n",
       "      <th>[2000, 2500)</th>\n",
       "      <td>cat30</td>\n",
       "    </tr>\n",
       "    <tr>\n",
       "      <th>[2500, 3000)</th>\n",
       "      <td>cat33</td>\n",
       "    </tr>\n",
       "    <tr>\n",
       "      <th>[3000, 3500)</th>\n",
       "      <td>cat95</td>\n",
       "    </tr>\n",
       "    <tr>\n",
       "      <th>[3500, 4000)</th>\n",
       "      <td>cat96</td>\n",
       "    </tr>\n",
       "    <tr>\n",
       "      <th rowspan=\"7\" valign=\"top\">[34, 36)</th>\n",
       "      <th>[1000, 1500)</th>\n",
       "      <td>cat19</td>\n",
       "    </tr>\n",
       "    <tr>\n",
       "      <th>[1500, 2000)</th>\n",
       "      <td>cat28</td>\n",
       "    </tr>\n",
       "    <tr>\n",
       "      <th>[2000, 2500)</th>\n",
       "      <td>cat34</td>\n",
       "    </tr>\n",
       "    <tr>\n",
       "      <th>[2500, 3000)</th>\n",
       "      <td>cat37</td>\n",
       "    </tr>\n",
       "    <tr>\n",
       "      <th>[3000, 3500)</th>\n",
       "      <td>cat39</td>\n",
       "    </tr>\n",
       "    <tr>\n",
       "      <th>[3500, 4000)</th>\n",
       "      <td>cat41</td>\n",
       "    </tr>\n",
       "    <tr>\n",
       "      <th>[4000, 4500)</th>\n",
       "      <td>cat38</td>\n",
       "    </tr>\n",
       "    <tr>\n",
       "      <th rowspan=\"7\" valign=\"top\">[36, 37)</th>\n",
       "      <th>[1000, 1500)</th>\n",
       "      <td>cat106</td>\n",
       "    </tr>\n",
       "    <tr>\n",
       "      <th>[1500, 2000)</th>\n",
       "      <td>cat25</td>\n",
       "    </tr>\n",
       "    <tr>\n",
       "      <th>[2000, 2500)</th>\n",
       "      <td>cat36</td>\n",
       "    </tr>\n",
       "    <tr>\n",
       "      <th>[2500, 3000)</th>\n",
       "      <td>cat40</td>\n",
       "    </tr>\n",
       "    <tr>\n",
       "      <th>[3000, 3500)</th>\n",
       "      <td>cat45</td>\n",
       "    </tr>\n",
       "    <tr>\n",
       "      <th>[3500, 4000)</th>\n",
       "      <td>cat47</td>\n",
       "    </tr>\n",
       "    <tr>\n",
       "      <th>[4000, 4500)</th>\n",
       "      <td>cat46</td>\n",
       "    </tr>\n",
       "    <tr>\n",
       "      <th rowspan=\"6\" valign=\"top\">[37, 38)</th>\n",
       "      <th>[1500, 2000)</th>\n",
       "      <td>cat24</td>\n",
       "    </tr>\n",
       "    <tr>\n",
       "      <th>[2000, 2500)</th>\n",
       "      <td>cat35</td>\n",
       "    </tr>\n",
       "    <tr>\n",
       "      <th>[2500, 3000)</th>\n",
       "      <td>cat42</td>\n",
       "    </tr>\n",
       "    <tr>\n",
       "      <th>[3000, 3500)</th>\n",
       "      <td>cat48</td>\n",
       "    </tr>\n",
       "    <tr>\n",
       "      <th>[3500, 4000)</th>\n",
       "      <td>cat50</td>\n",
       "    </tr>\n",
       "    <tr>\n",
       "      <th>[4000, 4500)</th>\n",
       "      <td>cat49</td>\n",
       "    </tr>\n",
       "    <tr>\n",
       "      <th rowspan=\"7\" valign=\"top\">[38, 40)</th>\n",
       "      <th>[1000, 1500)</th>\n",
       "      <td>cat116</td>\n",
       "    </tr>\n",
       "    <tr>\n",
       "      <th>[1500, 2000)</th>\n",
       "      <td>cat117</td>\n",
       "    </tr>\n",
       "    <tr>\n",
       "      <th>[2000, 2500)</th>\n",
       "      <td>cat32</td>\n",
       "    </tr>\n",
       "    <tr>\n",
       "      <th>[2500, 3000)</th>\n",
       "      <td>cat44</td>\n",
       "    </tr>\n",
       "    <tr>\n",
       "      <th>[3000, 3500)</th>\n",
       "      <td>cat52</td>\n",
       "    </tr>\n",
       "    <tr>\n",
       "      <th>[3500, 4000)</th>\n",
       "      <td>cat54</td>\n",
       "    </tr>\n",
       "    <tr>\n",
       "      <th>[4000, 4500)</th>\n",
       "      <td>cat53</td>\n",
       "    </tr>\n",
       "    <tr>\n",
       "      <th rowspan=\"6\" valign=\"top\">[40, 42)</th>\n",
       "      <th>[1500, 2000)</th>\n",
       "      <td>cat123</td>\n",
       "    </tr>\n",
       "    <tr>\n",
       "      <th>[2000, 2500)</th>\n",
       "      <td>cat31</td>\n",
       "    </tr>\n",
       "    <tr>\n",
       "      <th>[2500, 3000)</th>\n",
       "      <td>cat43</td>\n",
       "    </tr>\n",
       "    <tr>\n",
       "      <th>[3000, 3500)</th>\n",
       "      <td>cat51</td>\n",
       "    </tr>\n",
       "    <tr>\n",
       "      <th>[3500, 4000)</th>\n",
       "      <td>cat55</td>\n",
       "    </tr>\n",
       "    <tr>\n",
       "      <th>[4000, 4500)</th>\n",
       "      <td>cat56</td>\n",
       "    </tr>\n",
       "  </tbody>\n",
       "</table>\n",
       "</div>"
      ],
      "text/plain": [
       "                                cat\n",
       "gestation_time birth_weight        \n",
       "[0, 24)        [0, 500)        cat2\n",
       "               [500, 1000)     cat8\n",
       "[24, 26)       [500, 1000)    cat10\n",
       "[26, 28)       [500, 1000)    cat11\n",
       "               [1000, 1500)   cat17\n",
       "[28, 30)       [500, 1000)    cat15\n",
       "               [1000, 1500)   cat21\n",
       "               [1500, 2000)   cat20\n",
       "               [2000, 2500)   cat80\n",
       "               [2500, 3000)   cat81\n",
       "               [3000, 3500)   cat82\n",
       "[30, 32)       [500, 1000)    cat14\n",
       "               [1000, 1500)   cat23\n",
       "               [1500, 2000)   cat27\n",
       "               [2000, 2500)   cat26\n",
       "               [2500, 3000)   cat88\n",
       "               [3000, 3500)   cat89\n",
       "               [3500, 4000)   cat90\n",
       "[32, 34)       [1000, 1500)   cat22\n",
       "               [1500, 2000)   cat29\n",
       "               [2000, 2500)   cat30\n",
       "               [2500, 3000)   cat33\n",
       "               [3000, 3500)   cat95\n",
       "               [3500, 4000)   cat96\n",
       "[34, 36)       [1000, 1500)   cat19\n",
       "               [1500, 2000)   cat28\n",
       "               [2000, 2500)   cat34\n",
       "               [2500, 3000)   cat37\n",
       "               [3000, 3500)   cat39\n",
       "               [3500, 4000)   cat41\n",
       "               [4000, 4500)   cat38\n",
       "[36, 37)       [1000, 1500)  cat106\n",
       "               [1500, 2000)   cat25\n",
       "               [2000, 2500)   cat36\n",
       "               [2500, 3000)   cat40\n",
       "               [3000, 3500)   cat45\n",
       "               [3500, 4000)   cat47\n",
       "               [4000, 4500)   cat46\n",
       "[37, 38)       [1500, 2000)   cat24\n",
       "               [2000, 2500)   cat35\n",
       "               [2500, 3000)   cat42\n",
       "               [3000, 3500)   cat48\n",
       "               [3500, 4000)   cat50\n",
       "               [4000, 4500)   cat49\n",
       "[38, 40)       [1000, 1500)  cat116\n",
       "               [1500, 2000)  cat117\n",
       "               [2000, 2500)   cat32\n",
       "               [2500, 3000)   cat44\n",
       "               [3000, 3500)   cat52\n",
       "               [3500, 4000)   cat54\n",
       "               [4000, 4500)   cat53\n",
       "[40, 42)       [1500, 2000)  cat123\n",
       "               [2000, 2500)   cat31\n",
       "               [2500, 3000)   cat43\n",
       "               [3000, 3500)   cat51\n",
       "               [3500, 4000)   cat55\n",
       "               [4000, 4500)   cat56"
      ]
     },
     "execution_count": 4,
     "metadata": {},
     "output_type": "execute_result"
    }
   ],
   "source": [
    "from gbd_mapping import risk_factors\n",
    "from neonatal.components import LBWSGRisk\n",
    "\n",
    "lbwsg = risk_factors.low_birth_weight_and_short_gestation\n",
    "cats = LBWSGRisk.parse_lbwsg_categories(lbwsg.categories.to_dict())\n",
    "cats.reset_index().sort_values(['gestation_time', 'birth_weight']).set_index(['gestation_time', 'birth_weight'])"
   ]
  },
  {
   "cell_type": "code",
   "execution_count": 33,
   "metadata": {},
   "outputs": [
    {
     "data": {
      "text/plain": [
       "birth_weight\n",
       "[0, 500)         [0, 24)\n",
       "[500, 1000)      [0, 32)\n",
       "[1000, 1500)    [26, 40)\n",
       "[1500, 2000)    [28, 42)\n",
       "[2000, 2500)    [28, 42)\n",
       "[2500, 3000)    [28, 42)\n",
       "[3000, 3500)    [28, 42)\n",
       "[3500, 4000)    [30, 42)\n",
       "[4000, 4500)    [34, 42)\n",
       "Name: gt_range, dtype: object"
      ]
     },
     "execution_count": 33,
     "metadata": {},
     "output_type": "execute_result"
    }
   ],
   "source": [
    "import pandas as pd\n",
    "def collapse_gt(x):\n",
    "    return pd.Interval(x.gestation_time.min().left, x.gestation_time.max().right, closed='left')\n",
    "\n",
    "lbwsg = risk_factors.low_birth_weight_and_short_gestation\n",
    "cats = LBWSGRisk.parse_lbwsg_categories(lbwsg.categories.to_dict())\n",
    "cats = cats.reset_index().groupby('birth_weight').apply(collapse_gt).rename('gt_range')\n",
    "cats"
   ]
  },
  {
   "cell_type": "code",
   "execution_count": 57,
   "metadata": {},
   "outputs": [],
   "source": [
    "MAX_BW = cats.index.max().right\n",
    "MAX_GT = cats.max().right\n",
    "\n",
    "SHIFT_IN_RANGE = 0.001\n",
    "\n",
    "def nn_shift(bw, gt, bw_shift, gt_shift):\n",
    "    bw_s = bw + bw_shift\n",
    "    gt_s = gt + gt_shift\n",
    "    if bw_s >= MAX_BW:\n",
    "        bw_s = MAX_BW - SHIFT_WITHIN_RANGE  # BUG here - if we shift off the edge to the left, \n",
    "                                            # we should be using table 2 from notes to look up based on gt\n",
    "    if gt_s >= MAX_GT:\n",
    "        gt_s = MAX_GT - SHIFT_WITHIN_RANGE\n",
    "    \n",
    "    idx = cats.index.get_loc(bw_s)\n",
    "    bw_range = cats.index[idx]\n",
    "    gt_range = cats.iloc[idx]\n",
    "    print(bw_range)\n",
    "    print(gt_range)\n",
    "    if gt_s < gt_range.left:    # A\n",
    "        bw_s = bw_range.left - SHIFT_IN_RANGE\n",
    "    if gt_s >= gt_range.right:  # B\n",
    "        gt_s = gt_range.right - SHIFT_IN_RANGE\n",
    "    \n",
    "    return (bw_s, gt_s)"
   ]
  },
  {
   "cell_type": "code",
   "execution_count": 50,
   "metadata": {},
   "outputs": [
    {
     "data": {
      "text/plain": [
       "(999.999, 25)"
      ]
     },
     "execution_count": 50,
     "metadata": {},
     "output_type": "execute_result"
    }
   ],
   "source": [
    "# case A - diagonal\n",
    "nn_shift(550, 23, 500, 2)"
   ]
  },
  {
   "cell_type": "code",
   "execution_count": 53,
   "metadata": {},
   "outputs": [
    {
     "data": {
      "text/plain": [
       "(1250, 39.999)"
      ]
     },
     "execution_count": 53,
     "metadata": {},
     "output_type": "execute_result"
    }
   ],
   "source": [
    "# case A - vertical\n",
    "nn_shift(1250, 38, 0, 3)"
   ]
  },
  {
   "cell_type": "code",
   "execution_count": 51,
   "metadata": {},
   "outputs": [
    {
     "data": {
      "text/plain": [
       "(850, 31.999)"
      ]
     },
     "execution_count": 51,
     "metadata": {},
     "output_type": "execute_result"
    }
   ],
   "source": [
    "# case B - diagonal\n",
    "nn_shift(750, 31, 100, 2)"
   ]
  },
  {
   "cell_type": "code",
   "execution_count": 54,
   "metadata": {},
   "outputs": [
    {
     "data": {
      "text/plain": [
       "(3999.999, 30)"
      ]
     },
     "execution_count": 54,
     "metadata": {},
     "output_type": "execute_result"
    }
   ],
   "source": [
    "# case B - horizontal\n",
    "nn_shift(3500, 30, 1000, 0)"
   ]
  },
  {
   "cell_type": "code",
   "execution_count": 52,
   "metadata": {},
   "outputs": [
    {
     "data": {
      "text/plain": [
       "(4499.999, 41.999)"
      ]
     },
     "execution_count": 52,
     "metadata": {},
     "output_type": "execute_result"
    }
   ],
   "source": [
    "# case C - diagonal\n",
    "nn_shift(4200, 41.25, 400, 2)"
   ]
  },
  {
   "cell_type": "code",
   "execution_count": 55,
   "metadata": {},
   "outputs": [
    {
     "data": {
      "text/plain": [
       "(2020, 41.999)"
      ]
     },
     "execution_count": 55,
     "metadata": {},
     "output_type": "execute_result"
    }
   ],
   "source": [
    "# off the edge vertically\n",
    "nn_shift(2020, 41, 0, 5)"
   ]
  },
  {
   "cell_type": "code",
   "execution_count": 58,
   "metadata": {},
   "outputs": [
    {
     "name": "stdout",
     "output_type": "stream",
     "text": [
      "[4000, 4500)\n",
      "[34, 42)\n"
     ]
    },
    {
     "data": {
      "text/plain": [
       "(3999.999, 23)"
      ]
     },
     "execution_count": 58,
     "metadata": {},
     "output_type": "execute_result"
    }
   ],
   "source": [
    "# off the edge horizontally - BUG!!!!!\n",
    "nn_shift(999, 23, 4000, 0)"
   ]
  }
 ],
 "metadata": {
  "kernelspec": {
   "display_name": "Python [conda env:neonatal]",
   "language": "python",
   "name": "conda-env-neonatal-py"
  },
  "language_info": {
   "codemirror_mode": {
    "name": "ipython",
    "version": 3
   },
   "file_extension": ".py",
   "mimetype": "text/x-python",
   "name": "python",
   "nbconvert_exporter": "python",
   "pygments_lexer": "ipython3",
   "version": "3.6.8"
  }
 },
 "nbformat": 4,
 "nbformat_minor": 2
}
